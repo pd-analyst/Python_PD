{
  "nbformat": 4,
  "nbformat_minor": 0,
  "metadata": {
    "colab": {
      "provenance": [],
      "authorship_tag": "ABX9TyM5IUy/MG9R1UhKu1AjZg/T",
      "include_colab_link": true
    },
    "kernelspec": {
      "name": "python3",
      "display_name": "Python 3"
    },
    "language_info": {
      "name": "python"
    }
  },
  "cells": [
    {
      "cell_type": "markdown",
      "metadata": {
        "id": "view-in-github",
        "colab_type": "text"
      },
      "source": [
        "<a href=\"https://colab.research.google.com/github/pd-analyst/Python_PD/blob/main/Password_Generator.ipynb\" target=\"_parent\"><img src=\"https://colab.research.google.com/assets/colab-badge.svg\" alt=\"Open In Colab\"/></a>"
      ]
    },
    {
      "cell_type": "markdown",
      "source": [
        "Priyanka Datta\n",
        "\n",
        "\n",
        "---\n",
        "\n",
        "\n",
        "CodSoft Project 1(Password Generator)"
      ],
      "metadata": {
        "id": "GJnNSuOQDR4b"
      }
    },
    {
      "cell_type": "code",
      "execution_count": 2,
      "metadata": {
        "id": "Lu0HVbCkr1wm"
      },
      "outputs": [],
      "source": [
        "import string\n",
        "import random"
      ]
    },
    {
      "cell_type": "code",
      "source": [
        "print('Welcome to Password Generator')\n"
      ],
      "metadata": {
        "colab": {
          "base_uri": "https://localhost:8080/",
          "height": 0
        },
        "id": "77WFaCca89oO",
        "outputId": "a02ce940-76a6-4666-8d30-52492fb2d1a4"
      },
      "execution_count": 20,
      "outputs": [
        {
          "output_type": "stream",
          "name": "stdout",
          "text": [
            "Welcome to Password Generator\n"
          ]
        }
      ]
    },
    {
      "cell_type": "code",
      "source": [
        "#Specify the desired length of the password\n",
        "length = int(input('\\n Enter length of the password: '))"
      ],
      "metadata": {
        "colab": {
          "base_uri": "https://localhost:8080/",
          "height": 0
        },
        "id": "2-6y_bA59L6F",
        "outputId": "60db6965-3b08-455d-b36a-5f4f28b7d567"
      },
      "execution_count": 22,
      "outputs": [
        {
          "name": "stdout",
          "output_type": "stream",
          "text": [
            "\n",
            " Enter length of the password: 12\n"
          ]
        }
      ]
    },
    {
      "cell_type": "code",
      "source": [
        "#Definig password\n",
        "lower = string.ascii_lowercase\n",
        "upper = string.ascii_uppercase\n",
        "num = string.digits\n",
        "symbols = string.punctuation"
      ],
      "metadata": {
        "id": "5YDkFJQr96p0"
      },
      "execution_count": 52,
      "outputs": []
    },
    {
      "cell_type": "code",
      "source": [
        "chars = lower + upper + num + symbols"
      ],
      "metadata": {
        "id": "42MsNQyv-G9N"
      },
      "execution_count": 53,
      "outputs": []
    },
    {
      "cell_type": "code",
      "source": [
        "if length > len(chars):\n",
        "    print(f\"Password length exceeds the available character set size. Setting password length to {len(chars)}.\")\n",
        "    length = len(chars)"
      ],
      "metadata": {
        "id": "_OP3EGY0CDpJ"
      },
      "execution_count": 58,
      "outputs": []
    },
    {
      "cell_type": "code",
      "source": [
        "# Generate the password\n",
        "password = ''.join(random.choice(chars) for i in range(length))"
      ],
      "metadata": {
        "id": "vLn1SELUCMe3"
      },
      "execution_count": 60,
      "outputs": []
    },
    {
      "cell_type": "code",
      "source": [
        "#Shuffle the password to generate randomness\n",
        "password_list = list(password)\n",
        "random.shuffle(password_list)\n",
        "password = ''.join(password_list)"
      ],
      "metadata": {
        "id": "keJpzM6iCZ2m"
      },
      "execution_count": 66,
      "outputs": []
    },
    {
      "cell_type": "code",
      "source": [
        "# Display the generated password\n",
        "print(f\" Generated Password: {password}\")"
      ],
      "metadata": {
        "colab": {
          "base_uri": "https://localhost:8080/",
          "height": 0
        },
        "id": "ef-zKsceAxsb",
        "outputId": "7c53f749-b283-495e-f995-c59c271146e7"
      },
      "execution_count": 68,
      "outputs": [
        {
          "output_type": "stream",
          "name": "stdout",
          "text": [
            " Generated Password: ?a@vC1PP`Hss\n"
          ]
        }
      ]
    }
  ]
}